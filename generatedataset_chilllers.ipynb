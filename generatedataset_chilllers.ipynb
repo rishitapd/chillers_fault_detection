{
  "nbformat": 4,
  "nbformat_minor": 0,
  "metadata": {
    "colab": {
      "provenance": []
    },
    "kernelspec": {
      "name": "python3",
      "display_name": "Python 3"
    },
    "language_info": {
      "name": "python"
    }
  },
  "cells": [
    {
      "cell_type": "code",
      "execution_count": 1,
      "metadata": {
        "id": "7y6lLk-2zoTW"
      },
      "outputs": [],
      "source": [
        "# Re-import needed libraries after code execution state reset\n",
        "import pandas as pd\n",
        "import numpy as np\n",
        "\n",
        "# Set seed for reproducibility\n",
        "np.random.seed(42)\n",
        "\n",
        "# Configuration\n",
        "n_samples = 5000\n",
        "\n",
        "\n"
      ]
    },
    {
      "cell_type": "code",
      "source": [
        "# Define sensors and normal operating ranges\n",
        "sensors = {\n",
        "    \"condenser_temp\": (30, 40),     # °C\n",
        "    \"evaporator_temp\": (5, 10),     # °C\n",
        "    \"compressor_current\": (12, 20), # Amps\n",
        "    \"evaporator_pressure\": (300, 400), # kPa\n",
        "    \"condenser_pressure\": (800, 1000), # kPa\n",
        "    \"refrigerant_flow\": (4, 8),     # L/min\n",
        "}\n"
      ],
      "metadata": {
        "id": "av7WgDX2z45F"
      },
      "execution_count": 2,
      "outputs": []
    },
    {
      "cell_type": "code",
      "source": [
        "# Fault types\n",
        "fault_classes = {\n",
        "    0: \"Normal\",\n",
        "    1: \"Condenser Fouling\",\n",
        "    2: \"Evaporator Fouling\",\n",
        "    3: \"Refrigerant Leak\",\n",
        "    4: \"Excess Oil\",\n",
        "    5: \"Defective Pilot Valve\",\n",
        "}\n",
        "\n",
        "\n"
      ],
      "metadata": {
        "id": "6TVyngZ-z-yf"
      },
      "execution_count": 3,
      "outputs": []
    },
    {
      "cell_type": "code",
      "source": [
        "# Function to generate normal data\n",
        "def generate_normal_data(n):\n",
        "    data = []\n",
        "    for _ in range(n):\n",
        "        row = [np.random.uniform(low, high) for low, high in sensors.values()]\n",
        "        data.append(row)\n",
        "    return np.array(data)\n",
        "\n"
      ],
      "metadata": {
        "id": "zE6WEiXr0Dq5"
      },
      "execution_count": 4,
      "outputs": []
    },
    {
      "cell_type": "code",
      "source": [
        "# Fault simulation logic\n",
        "def inject_fault(sample, fault_type):\n",
        "    sample = sample.copy()\n",
        "\n",
        "    if fault_type == 1:  # Condenser Fouling\n",
        "        sample[0] += np.random.uniform(5, 10)\n",
        "\n",
        "    elif fault_type == 2:  # Evaporator Fouling\n",
        "        sample[1] += np.random.uniform(3, 6)\n",
        "        sample[5] -= np.random.uniform(1, 2)\n",
        "\n",
        "    elif fault_type == 3:  # Refrigerant Leak\n",
        "        sample[3] -= np.random.uniform(50, 100)\n",
        "        sample[4] -= np.random.uniform(100, 200)\n",
        "\n",
        "    elif fault_type == 4:  # Excess Oil\n",
        "        sample[2] += np.random.uniform(5, 10)\n",
        "\n",
        "    elif fault_type == 5:  # Defective Pilot Valve\n",
        "        sample[5] -= np.random.uniform(2, 3)\n",
        "        sample[0] += np.random.uniform(2, 4)\n",
        "        sample[1] -= np.random.uniform(2, 3)\n",
        "\n",
        "    return sample\n",
        "\n"
      ],
      "metadata": {
        "id": "_Im1qNC_0HwF"
      },
      "execution_count": 5,
      "outputs": []
    },
    {
      "cell_type": "code",
      "source": [
        "# Build full dataset\n",
        "data = []\n",
        "labels = []\n",
        "\n"
      ],
      "metadata": {
        "id": "3qRyaMGL0MZc"
      },
      "execution_count": 6,
      "outputs": []
    },
    {
      "cell_type": "code",
      "source": [
        "# Normal samples\n",
        "normal_data = generate_normal_data(int(n_samples * 0.4))\n",
        "data.extend(normal_data)\n",
        "labels.extend([0] * len(normal_data))\n",
        "\n",
        "# Faulty samples\n",
        "for fault_id in range(1, 6):\n",
        "    base_data = generate_normal_data(int(n_samples * 0.12))\n",
        "    faulty_data = np.array([inject_fault(row, fault_id) for row in base_data])\n",
        "    data.extend(faulty_data)\n",
        "    labels.extend([fault_id] * len(faulty_data))\n",
        "\n"
      ],
      "metadata": {
        "id": "mKCyxCLy0PnK"
      },
      "execution_count": 7,
      "outputs": []
    },
    {
      "cell_type": "code",
      "source": [
        "# Create dataframe\n",
        "df = pd.DataFrame(data, columns=sensors.keys())\n",
        "df[\"fault_type\"] = labels\n",
        "df[\"fault_name\"] = df[\"fault_type\"].map(fault_classes)\n",
        "\n",
        "# Save to CSV\n",
        "csv_path = \"/content/sample_data/chiller_fault_dataset.csv\"\n",
        "df.to_csv(csv_path, index=False)\n",
        "print(\"your csv file saved in sample_data\")\n",
        "\n",
        "#import os\n",
        "\n",
        "#downloads_path = os.path.join(os.path.expanduser(\"~\"), \"Downloads\", \"chiller_fault_dataset.csv\")\n",
        "#df.to_csv(downloads_path, index=False)\n",
        "\n",
        "\n",
        "csv_path"
      ],
      "metadata": {
        "colab": {
          "base_uri": "https://localhost:8080/",
          "height": 52
        },
        "id": "SDG2OVso0Rod",
        "outputId": "0d7b0ed5-73cc-465f-e41b-9d73343434cf"
      },
      "execution_count": 13,
      "outputs": [
        {
          "output_type": "stream",
          "name": "stdout",
          "text": [
            "your csv file saved in sample_data\n"
          ]
        },
        {
          "output_type": "execute_result",
          "data": {
            "text/plain": [
              "'/content/sample_data/chiller_fault_dataset.csv'"
            ],
            "application/vnd.google.colaboratory.intrinsic+json": {
              "type": "string"
            }
          },
          "metadata": {},
          "execution_count": 13
        }
      ]
    },
    {
      "cell_type": "markdown",
      "source": [],
      "metadata": {
        "id": "a86w_hhw3kys"
      }
    }
  ]
}